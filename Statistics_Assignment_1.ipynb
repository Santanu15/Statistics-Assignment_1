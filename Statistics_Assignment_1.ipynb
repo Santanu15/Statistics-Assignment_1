{
  "nbformat": 4,
  "nbformat_minor": 0,
  "metadata": {
    "colab": {
      "provenance": []
    },
    "kernelspec": {
      "name": "python3",
      "display_name": "Python 3"
    },
    "language_info": {
      "name": "python"
    }
  },
  "cells": [
    {
      "cell_type": "markdown",
      "source": [
        "**Generate a list of 100 integers containing values between 90 to 130 and store it in the variable \"int_list\".**"
      ],
      "metadata": {
        "id": "5eh8uDG9Dsrj"
      }
    },
    {
      "cell_type": "code",
      "source": [
        "import random"
      ],
      "metadata": {
        "id": "QFLruTppEwZt"
      },
      "execution_count": null,
      "outputs": []
    },
    {
      "cell_type": "code",
      "source": [
        "int_list= []\n",
        "for i in range(100):\n",
        "  int_list.append(random.randint(90,130))\n",
        "print(int_list)"
      ],
      "metadata": {
        "colab": {
          "base_uri": "https://localhost:8080/"
        },
        "id": "jlRDL4n0FA8p",
        "outputId": "352c3606-cc0b-4bc0-cd0d-b0083c0f5d78"
      },
      "execution_count": null,
      "outputs": [
        {
          "output_type": "stream",
          "name": "stdout",
          "text": [
            "[113, 125, 130, 129, 96, 115, 110, 128, 119, 100, 105, 108, 99, 103, 95, 129, 112, 130, 93, 111, 129, 94, 101, 121, 124, 129, 96, 108, 98, 100, 100, 106, 121, 128, 115, 91, 125, 96, 100, 102, 92, 99, 122, 96, 122, 97, 114, 111, 90, 107, 105, 104, 106, 94, 100, 126, 91, 115, 103, 94, 96, 121, 116, 117, 125, 102, 113, 122, 127, 126, 110, 98, 94, 99, 97, 115, 114, 119, 113, 127, 108, 121, 122, 126, 126, 109, 96, 110, 115, 92, 101, 123, 109, 110, 113, 110, 112, 108, 109, 91]\n"
          ]
        }
      ]
    },
    {
      "cell_type": "code",
      "source": [
        "# Calculate the Mean and Median"
      ],
      "metadata": {
        "id": "gHTcqfMMFJGY"
      },
      "execution_count": null,
      "outputs": []
    },
    {
      "cell_type": "code",
      "source": [
        "import statistics"
      ],
      "metadata": {
        "id": "qTu9NVaFFXzn"
      },
      "execution_count": null,
      "outputs": []
    },
    {
      "cell_type": "code",
      "source": [
        "mean_val=statistics.mean(int_list)\n",
        "print(\"The Mean value is:\",mean_val)\n",
        "\n",
        "median_val=statistics.median(int_list)\n",
        "print(\"The Median value is:\",median_val)"
      ],
      "metadata": {
        "colab": {
          "base_uri": "https://localhost:8080/"
        },
        "id": "UOHVzOrdFt2W",
        "outputId": "cdcc0e59-7333-4b08-e1a4-55af67bc2be5"
      },
      "execution_count": null,
      "outputs": [
        {
          "output_type": "stream",
          "name": "stdout",
          "text": [
            "The Mean value is: 109.84\n",
            "The Median value is: 110.0\n"
          ]
        }
      ]
    },
    {
      "cell_type": "code",
      "source": [
        "# Calculate the Mode"
      ],
      "metadata": {
        "id": "Y56p1eBAGPT6"
      },
      "execution_count": null,
      "outputs": []
    },
    {
      "cell_type": "code",
      "source": [
        "mode_val=statistics.mode(int_list)\n",
        "print(\"The Mode value is:\",mode_val)"
      ],
      "metadata": {
        "colab": {
          "base_uri": "https://localhost:8080/"
        },
        "id": "VMxZVcxXGlDU",
        "outputId": "2c1bd650-601a-4b31-b2bc-b6c1ff6f1b80"
      },
      "execution_count": null,
      "outputs": [
        {
          "output_type": "stream",
          "name": "stdout",
          "text": [
            "The Mode value is: 96\n"
          ]
        }
      ]
    },
    {
      "cell_type": "code",
      "source": [
        "# Implement a function to calculate weighted mean"
      ],
      "metadata": {
        "id": "5BuE0bQDGuFk"
      },
      "execution_count": null,
      "outputs": []
    },
    {
      "cell_type": "code",
      "source": [
        "def weighted_mean(data, weights):\n",
        "  weighted_sum = 0\n",
        "  total_weight = 0\n",
        "  for i in range(len(data)):\n",
        "    weighted_sum += data[i] * weights[i]\n",
        "    total_weight += weights[i]\n",
        "  return weighted_sum / total_weight"
      ],
      "metadata": {
        "id": "s6lKhOlgHF4j"
      },
      "execution_count": null,
      "outputs": []
    },
    {
      "cell_type": "code",
      "source": [
        "weights=[random.randint(1,10) for i in range(100)]\n",
        "weighted_mean_val=weighted_mean(int_list,weights)\n",
        "print(\"The Weighted Mean value is:\",weighted_mean_val)"
      ],
      "metadata": {
        "colab": {
          "base_uri": "https://localhost:8080/"
        },
        "id": "f04ndpZLHQqz",
        "outputId": "fb29c01b-b49d-4b65-a97c-261d422ad508"
      },
      "execution_count": null,
      "outputs": [
        {
          "output_type": "stream",
          "name": "stdout",
          "text": [
            "The Weighted Mean value is: 109.69947275922671\n"
          ]
        }
      ]
    },
    {
      "cell_type": "code",
      "source": [
        "# Implement a function to calculate Geometric Mean"
      ],
      "metadata": {
        "id": "m5ZZl-MOHrKy"
      },
      "execution_count": null,
      "outputs": []
    },
    {
      "cell_type": "code",
      "source": [
        "import math"
      ],
      "metadata": {
        "id": "4Vi4q2k_IXaA"
      },
      "execution_count": null,
      "outputs": []
    },
    {
      "cell_type": "code",
      "source": [
        "def geometric_mean(number):\n",
        "  product = 1\n",
        "  for num in number:\n",
        "    product *= num\n",
        "  return math.sqrt(product)"
      ],
      "metadata": {
        "id": "nyAOUn8cIfMI"
      },
      "execution_count": null,
      "outputs": []
    },
    {
      "cell_type": "code",
      "source": [
        "geometric_mean_val=geometric_mean(int_list)\n",
        "print(\"The Geometric Mean value is:\",geometric_mean_val)"
      ],
      "metadata": {
        "colab": {
          "base_uri": "https://localhost:8080/"
        },
        "id": "kw2DrrH9Iqkw",
        "outputId": "04698009-146b-487a-88df-64660f576fbc"
      },
      "execution_count": null,
      "outputs": [
        {
          "output_type": "stream",
          "name": "stdout",
          "text": [
            "The Geometric Mean value is: 8.17407316233081e+101\n"
          ]
        }
      ]
    },
    {
      "cell_type": "code",
      "source": [
        "# Implement a function to calculate Harmonic Mean"
      ],
      "metadata": {
        "id": "fVDNT5NzIx7I"
      },
      "execution_count": null,
      "outputs": []
    },
    {
      "cell_type": "code",
      "source": [
        "def harmonic_mean(number):\n",
        "  sum = 0\n",
        "  for num in number:\n",
        "    sum += 1 / num\n",
        "  return len(number) / sum"
      ],
      "metadata": {
        "id": "AbMl3iUkI9YH"
      },
      "execution_count": null,
      "outputs": []
    },
    {
      "cell_type": "code",
      "source": [
        "harmonic_mean_val=harmonic_mean(int_list)\n",
        "print(\"The Harmonic Mean value is:\",harmonic_mean_val)"
      ],
      "metadata": {
        "colab": {
          "base_uri": "https://localhost:8080/"
        },
        "id": "CoHEiRcIJJuY",
        "outputId": "c8610ad5-4ce2-42f8-a52b-2cfd709280b1"
      },
      "execution_count": null,
      "outputs": [
        {
          "output_type": "stream",
          "name": "stdout",
          "text": [
            "The Harmonic Mean value is: 108.57545713592394\n"
          ]
        }
      ]
    },
    {
      "cell_type": "code",
      "source": [
        "# Implement a function to determine the midrange of a list of numbers"
      ],
      "metadata": {
        "id": "f5Ef0AHmJMlv"
      },
      "execution_count": null,
      "outputs": []
    },
    {
      "cell_type": "code",
      "source": [
        "def mid_range(numbers):\n",
        "  numbers.sort()\n",
        "  return (numbers[len(numbers) // 2] + numbers[len(numbers) // 2 - 1]) / 2"
      ],
      "metadata": {
        "id": "gs484Ct4Jg9m"
      },
      "execution_count": null,
      "outputs": []
    },
    {
      "cell_type": "code",
      "source": [
        "midrange_val=mid_range(int_list)\n",
        "print(\"The Mid_range value is:\",midrange_val)"
      ],
      "metadata": {
        "colab": {
          "base_uri": "https://localhost:8080/"
        },
        "id": "8Xh4h6IZJkke",
        "outputId": "d9320424-75f2-4757-9b05-bf08814a2a74"
      },
      "execution_count": null,
      "outputs": [
        {
          "output_type": "stream",
          "name": "stdout",
          "text": [
            "The Mid_range value is: 110.0\n"
          ]
        }
      ]
    },
    {
      "cell_type": "code",
      "source": [
        "# Implement a Python program to find the trimmed mean of a list"
      ],
      "metadata": {
        "id": "G6mq7xfOJqaF"
      },
      "execution_count": null,
      "outputs": []
    },
    {
      "cell_type": "code",
      "source": [
        "def trimmed_mean(numbers, percentage):\n",
        "  numbers.sort()\n",
        "  trim_size = int(len(numbers) * percentage / 100)\n",
        "  return sum(numbers[trim_size:-trim_size]) / (len(numbers) - 2 * trim_size)"
      ],
      "metadata": {
        "id": "9jEk1JHoJ8YW"
      },
      "execution_count": null,
      "outputs": []
    },
    {
      "cell_type": "code",
      "source": [
        "trimmed_mean_val=trimmed_mean(int_list,10)\n",
        "print(\"The Trimmed Mean value is:\",trimmed_mean_val)"
      ],
      "metadata": {
        "id": "qwJTnrN5KDJt",
        "outputId": "835bcdfb-2b8e-4c4c-ed96-9267d1d7f85a",
        "colab": {
          "base_uri": "https://localhost:8080/"
        }
      },
      "execution_count": null,
      "outputs": [
        {
          "output_type": "stream",
          "name": "stdout",
          "text": [
            "The Trimmed Mean value is: 109.7\n"
          ]
        }
      ]
    },
    {
      "cell_type": "markdown",
      "source": [
        "**Generate a list of 500 integers containing values between 200 to 300 and store it in the variable \"int_list2\".**"
      ],
      "metadata": {
        "id": "PdWCPRKmeLxK"
      }
    },
    {
      "cell_type": "code",
      "source": [
        "import random"
      ],
      "metadata": {
        "id": "iujbjwDoeR8v"
      },
      "execution_count": 1,
      "outputs": []
    },
    {
      "cell_type": "code",
      "source": [
        "int_list2= []\n",
        "for i in range(500):\n",
        "  int_list2.append(random.randint(200,300))\n",
        "print(int_list2)"
      ],
      "metadata": {
        "colab": {
          "base_uri": "https://localhost:8080/",
          "height": 0
        },
        "id": "ZRK3F3RKev7u",
        "outputId": "86e668aa-1c5c-42e8-84bb-e6ebacb9620d"
      },
      "execution_count": 2,
      "outputs": [
        {
          "output_type": "stream",
          "name": "stdout",
          "text": [
            "[278, 275, 245, 232, 243, 215, 209, 275, 219, 293, 248, 247, 275, 217, 231, 258, 229, 220, 264, 261, 242, 202, 278, 293, 253, 282, 225, 243, 298, 292, 290, 228, 211, 225, 227, 288, 288, 297, 237, 273, 270, 296, 225, 245, 234, 252, 203, 203, 275, 228, 282, 273, 272, 273, 258, 255, 252, 271, 227, 273, 238, 300, 231, 270, 230, 203, 264, 220, 249, 235, 291, 286, 202, 300, 231, 292, 214, 267, 248, 210, 276, 255, 203, 273, 213, 287, 206, 279, 237, 257, 243, 283, 290, 271, 289, 227, 275, 253, 224, 215, 206, 254, 263, 235, 300, 292, 268, 280, 217, 275, 209, 267, 232, 266, 275, 244, 215, 263, 273, 275, 203, 228, 233, 215, 256, 224, 253, 226, 274, 215, 202, 208, 281, 225, 298, 243, 281, 207, 260, 277, 235, 209, 204, 247, 206, 249, 299, 272, 258, 268, 243, 282, 258, 284, 247, 295, 206, 273, 237, 219, 229, 248, 264, 202, 207, 264, 251, 214, 267, 222, 251, 252, 216, 208, 240, 244, 233, 245, 203, 222, 211, 221, 239, 278, 292, 200, 296, 215, 207, 229, 280, 269, 219, 298, 283, 290, 227, 241, 246, 248, 221, 289, 268, 275, 273, 236, 250, 235, 274, 291, 228, 225, 288, 282, 260, 220, 267, 207, 279, 233, 258, 209, 290, 248, 266, 217, 258, 252, 299, 218, 205, 278, 273, 253, 206, 200, 278, 270, 214, 276, 295, 213, 266, 280, 264, 266, 297, 200, 242, 202, 285, 284, 273, 281, 235, 215, 266, 281, 274, 244, 227, 207, 279, 257, 247, 227, 243, 280, 290, 213, 209, 252, 215, 205, 283, 209, 221, 292, 297, 274, 289, 292, 265, 213, 261, 264, 221, 203, 253, 261, 234, 285, 299, 293, 294, 277, 253, 213, 240, 234, 221, 228, 283, 249, 278, 212, 240, 285, 256, 241, 264, 231, 297, 231, 270, 239, 296, 281, 238, 235, 246, 291, 264, 262, 245, 282, 259, 226, 244, 264, 213, 263, 292, 202, 277, 266, 245, 272, 268, 271, 225, 297, 201, 235, 239, 243, 260, 214, 268, 283, 254, 244, 280, 291, 254, 255, 267, 299, 213, 235, 225, 229, 213, 218, 230, 241, 203, 228, 205, 218, 237, 298, 271, 280, 259, 219, 231, 212, 205, 300, 295, 240, 231, 284, 218, 259, 218, 278, 262, 258, 289, 258, 282, 225, 237, 275, 292, 226, 237, 280, 280, 292, 268, 293, 208, 279, 258, 252, 247, 274, 262, 283, 242, 267, 283, 201, 278, 260, 214, 255, 249, 201, 291, 229, 285, 238, 211, 212, 230, 247, 283, 214, 292, 248, 282, 270, 215, 223, 238, 293, 296, 239, 296, 208, 209, 265, 222, 234, 270, 247, 222, 200, 241, 281, 268, 232, 278, 235, 233, 220, 247, 280, 245, 213, 227, 295, 235, 238, 281, 214, 248, 252, 240, 212, 264, 262, 264, 205, 207, 253, 266, 294, 277, 221, 266, 254, 207, 277, 225, 278, 255, 273, 293, 268, 275, 284, 287, 294, 239, 275]\n"
          ]
        }
      ]
    },
    {
      "cell_type": "code",
      "source": [
        "# Compare the given list of visualization for the given data:"
      ],
      "metadata": {
        "id": "5ApEEoHfe0sK"
      },
      "execution_count": 3,
      "outputs": []
    },
    {
      "cell_type": "code",
      "source": [
        "#Frequency & Gaussian distribution"
      ],
      "metadata": {
        "id": "l9RF9Q-pfVuh"
      },
      "execution_count": 5,
      "outputs": []
    },
    {
      "cell_type": "code",
      "source": [
        "import matplotlib.pyplot as plt\n",
        "import numpy as np\n",
        "import scipy.stats as stats"
      ],
      "metadata": {
        "id": "h8f1QWDgfZUZ"
      },
      "execution_count": 6,
      "outputs": []
    },
    {
      "cell_type": "code",
      "source": [
        "plt.figure(figsize=(8, 6))\n",
        "plt.hist(int_list2, bins=20,density=True,alpha=0.6,color=\"green\", edgecolor='black',label=\"Frequency\")\n",
        "\n",
        "mean,std=np.mean(int_list2),np.std(int_list2)\n",
        "xmin,xmax=plt.xlim()\n",
        "x=np.linspace(xmin,xmax,100)\n",
        "p=stats.norm.pdf(x,mean,std)\n",
        "\n",
        "plt.plot(x,p,linewidth=2,label=\"Gaussian Distribution\")\n",
        "plt.title(\"Frequency & Gaussian Distribution\")\n",
        "plt.xlabel(\"Values\")\n",
        "plt.ylabel(\"Frequency\")\n",
        "plt.legend()\n",
        "plt.show()"
      ],
      "metadata": {
        "colab": {
          "base_uri": "https://localhost:8080/",
          "height": 564
        },
        "id": "KGN-YSx3fiLA",
        "outputId": "cd3e8462-0d4f-4ec9-d783-d4560f9f78f4"
      },
      "execution_count": 9,
      "outputs": [
        {
          "output_type": "display_data",
          "data": {
            "text/plain": [
              "<Figure size 800x600 with 1 Axes>"
            ],
            "image/png": "[encoded data removed]"
          },
          "metadata": {}
        }
      ]
    },
    {
      "cell_type": "code",
      "source": [
        "# Frequency smoothened KDE plot"
      ],
      "metadata": {
        "id": "psvMcN2ThDUB"
      },
      "execution_count": 10,
      "outputs": []
    },
    {
      "cell_type": "code",
      "source": [
        "import seaborn as sns\n"
      ],
      "metadata": {
        "id": "fbeHLsoRhMj7"
      },
      "execution_count": 11,
      "outputs": []
    },
    {
      "cell_type": "code",
      "source": [
        "plt.figure(figsize=(8, 6))\n",
        "sns.histplot(int_list2, bins=20, kde=True, color=\"blue\",edgecolor=\"black\", label=\"KDE Plot\")\n",
        "plt.title(\"Frequency Smoothened KDE Plot\")\n",
        "plt.xlabel(\"Values\")\n",
        "plt.ylabel(\"Frequency\")\n",
        "plt.legend()\n",
        "plt.show()"
      ],
      "metadata": {
        "colab": {
          "base_uri": "https://localhost:8080/",
          "height": 564
        },
        "id": "Xfi_lUjqhcfa",
        "outputId": "b9a73fd6-e18d-4aa1-dad2-5a95917cbea4"
      },
      "execution_count": 13,
      "outputs": [
        {
          "output_type": "display_data",
          "data": {
            "text/plain": [
              "<Figure size 800x600 with 1 Axes>"
            ],
            "image/png": "[encoded data removed]"
          },
          "metadata": {}
        }
      ]
    },
    {
      "cell_type": "code",
      "source": [
        "#Gaussian distribution & smoothened KDE plot"
      ],
      "metadata": {
        "id": "SsvTTXtmh4d0"
      },
      "execution_count": 14,
      "outputs": []
    },
    {
      "cell_type": "code",
      "source": [
        "mean,std=np.mean(int_list2),np.std(int_list2)\n",
        "xmin,xmax=plt.xlim()\n",
        "x=np.linspace(xmin,xmax,100)\n",
        "p=stats.norm.pdf(x,mean,std)\n",
        "\n",
        "plt.figure(figsize=(8, 6))\n",
        "sns.kdeplot(int_list2,color=\"red\",label=\"KDE Plot\")\n",
        "plt.plot(x,p,linewidth=2,label=\"Gaussian Distribution\")\n",
        "plt.title(\"Gaussian Distribution & Smoothened KDE Plot\")\n",
        "plt.xlabel(\"Values\")\n",
        "plt.ylabel(\"Density\")\n",
        "plt.legend()\n",
        "plt.show()"
      ],
      "metadata": {
        "colab": {
          "base_uri": "https://localhost:8080/",
          "height": 982
        },
        "id": "jBuRhWiqiC0g",
        "outputId": "79efe745-723f-4159-99ba-70913e9fe8f3"
      },
      "execution_count": 16,
      "outputs": [
        {
          "output_type": "display_data",
          "data": {
            "text/plain": [
              "<Figure size 640x480 with 1 Axes>"
            ],
            "image/png": "[encoded data removed]"
          },
          "metadata": {}
        },
        {
          "output_type": "display_data",
          "data": {
            "text/plain": [
              "<Figure size 800x600 with 1 Axes>"
            ],
            "image/png": "[encoded data removed]"
          },
          "metadata": {}
        }
      ]
    },
    {
      "cell_type": "code",
      "source": [
        "#Write a Python function to calculate the range of a given list of numbers."
      ],
      "metadata": {
        "id": "iMIhrF2divC-"
      },
      "execution_count": 17,
      "outputs": []
    },
    {
      "cell_type": "code",
      "source": [
        "def cal_range(num):\n",
        "  if not num:\n",
        "    return None\n",
        "  return max(num)-min(num)"
      ],
      "metadata": {
        "id": "m6AOfsp0jE19"
      },
      "execution_count": 18,
      "outputs": []
    },
    {
      "cell_type": "code",
      "source": [
        "range_of_list=cal_range(int_list2)\n",
        "print(f\"The range of the list is:{range_of_list}\")"
      ],
      "metadata": {
        "colab": {
          "base_uri": "https://localhost:8080/",
          "height": 0
        },
        "id": "AbzTbpDcjTVU",
        "outputId": "49e94064-0a8d-4d61-9c6e-b08a8cec6791"
      },
      "execution_count": 19,
      "outputs": [
        {
          "output_type": "stream",
          "name": "stdout",
          "text": [
            "The range of the list is:100\n"
          ]
        }
      ]
    },
    {
      "cell_type": "code",
      "source": [
        "# Create a program to find the variance and standard deviation of a list of numbers."
      ],
      "metadata": {
        "id": "p18EgYN6jq84"
      },
      "execution_count": 20,
      "outputs": []
    },
    {
      "cell_type": "code",
      "source": [
        "import math"
      ],
      "metadata": {
        "id": "rAp3B7GDjv5a"
      },
      "execution_count": 21,
      "outputs": []
    },
    {
      "cell_type": "code",
      "source": [
        "def cal_variance(num):\n",
        "  if not num:\n",
        "    return None\n",
        "\n",
        "  mean=sum(num)/len(num)\n",
        "\n",
        "  variance=sum((x-mean)**2 for x in num)/len(num)\n",
        "  return variance\n",
        "\n"
      ],
      "metadata": {
        "id": "yter5Y1tj-sC"
      },
      "execution_count": 22,
      "outputs": []
    },
    {
      "cell_type": "code",
      "source": [
        "def cal_std(num):\n",
        "  variance=cal_variance(num)\n",
        "  if variance is None:\n",
        "    return None\n",
        "\n",
        "  standard_deviation=math.sqrt(variance)\n",
        "  return standard_deviation\n"
      ],
      "metadata": {
        "id": "1FE1u5hMky1g"
      },
      "execution_count": 23,
      "outputs": []
    },
    {
      "cell_type": "code",
      "source": [
        "variance_of_list=cal_variance(int_list2)\n",
        "standard_deviation_of_list=cal_std(int_list2)\n",
        "\n",
        "print(f\"The variance of the list is:{variance_of_list}\")\n",
        "print(f\"The standard deviation of the list is:{standard_deviation_of_list}\")"
      ],
      "metadata": {
        "colab": {
          "base_uri": "https://localhost:8080/",
          "height": 0
        },
        "id": "STtWpcYDlcR2",
        "outputId": "0e526c33-b7dc-4a8a-f47e-63cd08860c5c"
      },
      "execution_count": 24,
      "outputs": [
        {
          "output_type": "stream",
          "name": "stdout",
          "text": [
            "The variance of the list is:835.6816960000001\n",
            "The standard deviation of the list is:28.908159678540592\n"
          ]
        }
      ]
    },
    {
      "cell_type": "code",
      "source": [
        "#Implement a function to compute the interquartile range (IQR) of a list of values."
      ],
      "metadata": {
        "id": "-oExnusyl33Z"
      },
      "execution_count": 25,
      "outputs": []
    },
    {
      "cell_type": "code",
      "source": [
        "def cal_iqr(num):\n",
        "  if not num:\n",
        "    return None\n",
        "\n",
        "  sorted_num=sorted(num)\n",
        "  n=len(sorted_num)\n",
        "\n",
        "  def median(data):\n",
        "    mid=len(data)//2\n",
        "    if len(data)%2==0:\n",
        "      return (data[mid-1]+data[mid])/2\n",
        "    else:\n",
        "      return data[mid]\n",
        "\n",
        "  q1=median(sorted_num[:n//2])\n",
        "  q3=median(sorted_num[n//2:])\n",
        "\n",
        "  iqr= q3-q1\n",
        "  return iqr"
      ],
      "metadata": {
        "id": "gQtunF2Rl8hk"
      },
      "execution_count": 26,
      "outputs": []
    },
    {
      "cell_type": "code",
      "source": [
        "interquartile_range=cal_iqr(int_list2)\n",
        "print(f\"The interquartile range of the list is:{interquartile_range}\")"
      ],
      "metadata": {
        "colab": {
          "base_uri": "https://localhost:8080/",
          "height": 0
        },
        "id": "IrMAkw0dmzcy",
        "outputId": "52de8cc9-f75c-4d76-a996-f1a6d2cdf738"
      },
      "execution_count": 27,
      "outputs": [
        {
          "output_type": "stream",
          "name": "stdout",
          "text": [
            "The interquartile range of the list is:49.0\n"
          ]
        }
      ]
    },
    {
      "cell_type": "code",
      "source": [
        " #Build a program to calculate the coefficient of variation for a dataset."
      ],
      "metadata": {
        "id": "IijL_K5xnDDw"
      },
      "execution_count": 28,
      "outputs": []
    },
    {
      "cell_type": "code",
      "source": [
        "import math"
      ],
      "metadata": {
        "id": "SuG0ezPtnIQo"
      },
      "execution_count": 29,
      "outputs": []
    },
    {
      "cell_type": "code",
      "source": [
        "def cal_mean(num):\n",
        "  if not num:\n",
        "    return None\n",
        "\n",
        "  return sum(num)/len(num)\n",
        "\n",
        "def cal_variance(num):\n",
        "  if not num:\n",
        "    return None\n",
        "  variance=sum((x-mean)**2 for x in num)/len(num)\n",
        "  return variance\n",
        "\n",
        "def cal_std(num):\n",
        "  variance=cal_variance(num)\n",
        "  if variance is None:\n",
        "    return None\n",
        "\n",
        "  standard_deviation=math.sqrt(variance)\n",
        "  return standard_deviation\n",
        "\n",
        "\n",
        "def cal_coeff(num):\n",
        "  mean=cal_mean(num)\n",
        "  standard_deviation=cal_std(num)\n",
        "\n",
        "  if mean==0:\n",
        "    return None\n",
        "\n",
        "  return (standard_deviation/mean)*100"
      ],
      "metadata": {
        "id": "XYIbPjD_nau_"
      },
      "execution_count": 30,
      "outputs": []
    },
    {
      "cell_type": "code",
      "source": [
        "coefficient_of_variation=cal_coeff(int_list2)\n",
        "print(f\"The coefficient of variation is:{coefficient_of_variation:.2f}%\")"
      ],
      "metadata": {
        "colab": {
          "base_uri": "https://localhost:8080/",
          "height": 0
        },
        "id": "yrbqwhGzo3Ie",
        "outputId": "5fbb76c5-aae8-4ecc-bd64-1d3484daa6ec"
      },
      "execution_count": 31,
      "outputs": [
        {
          "output_type": "stream",
          "name": "stdout",
          "text": [
            "The coefficient of variation is:11.52%\n"
          ]
        }
      ]
    },
    {
      "cell_type": "code",
      "source": [
        "#Write a Python function to find the mean absolute deviation (MAD) of a list of numbers."
      ],
      "metadata": {
        "id": "cocuA5I9phRN"
      },
      "execution_count": 32,
      "outputs": []
    },
    {
      "cell_type": "code",
      "source": [
        "from mmap import MADV_DODUMP\n",
        "def cal_mad(num):\n",
        "  if not num:\n",
        "    return None\n",
        "\n",
        "  mean=sum(num)/len(num)\n",
        "  mad=sum(abs(x-mean)for x in num)/len(num)\n",
        "  return mad\n"
      ],
      "metadata": {
        "id": "ERNZSrSUpnE4"
      },
      "execution_count": 36,
      "outputs": []
    },
    {
      "cell_type": "code",
      "source": [
        "mad_of_list=cal_mad(int_list2)\n",
        "print(f\"The mean absolute deviation of the list is:{mad_of_list}\")"
      ],
      "metadata": {
        "colab": {
          "base_uri": "https://localhost:8080/",
          "height": 0
        },
        "id": "uB9hZh0fqKTz",
        "outputId": "367c632e-83f3-421d-9318-3fd2912b4bf6"
      },
      "execution_count": 37,
      "outputs": [
        {
          "output_type": "stream",
          "name": "stdout",
          "text": [
            "The mean absolute deviation of the list is:25.20134400000001\n"
          ]
        }
      ]
    },
    {
      "cell_type": "code",
      "source": [
        "#Create a program to calculate the quartile deviation of a list of values."
      ],
      "metadata": {
        "id": "4_LO4foTqXUN"
      },
      "execution_count": 38,
      "outputs": []
    },
    {
      "cell_type": "code",
      "source": [
        " def median(data):\n",
        "    mid=len(data)//2\n",
        "    if len(data)%2==0:\n",
        "      return (data[mid-1]+data[mid])/2\n",
        "    else:\n",
        "      return data[mid]"
      ],
      "metadata": {
        "id": "9d7Ql5rrqiwE"
      },
      "execution_count": 39,
      "outputs": []
    },
    {
      "cell_type": "code",
      "source": [
        "def quartile(data):\n",
        "  sorted_data=sorted(data)\n",
        "  n=len(sorted_data)\n",
        "\n",
        "  Q1=median(sorted_data[:n//2])\n",
        "\n",
        "  if n%2==0:\n",
        "    Q3=median(sorted_data[n//2:])\n",
        "  else:\n",
        "    Q3=median(sorted_data[n//2+1:])\n",
        "\n",
        "  return Q1,Q3\n",
        "\n",
        "def quartile_deviation(data):\n",
        "  Q1,Q3=quartile(data)\n",
        "  quart_dev=(Q3-Q1)/2\n",
        "  return quart_dev"
      ],
      "metadata": {
        "id": "JHC99PR0q6tb"
      },
      "execution_count": 42,
      "outputs": []
    },
    {
      "cell_type": "code",
      "source": [
        "result=quartile_deviation(int_list2)\n",
        "print(f\"The quartile deviation of the list is:{result}\")"
      ],
      "metadata": {
        "colab": {
          "base_uri": "https://localhost:8080/",
          "height": 0
        },
        "id": "f-YyFh4xsUQZ",
        "outputId": "08cb0ce3-6416-42b1-a022-1a811aa67d26"
      },
      "execution_count": 43,
      "outputs": [
        {
          "output_type": "stream",
          "name": "stdout",
          "text": [
            "The quartile deviation of the list is:24.5\n"
          ]
        }
      ]
    },
    {
      "cell_type": "code",
      "source": [
        "#Implement a function to find the range-based coefficient of dispersion for a dataset."
      ],
      "metadata": {
        "id": "Nznm_f_TskuY"
      },
      "execution_count": 44,
      "outputs": []
    },
    {
      "cell_type": "code",
      "source": [
        "def median(data):\n",
        "    mid=len(data)//2\n",
        "    if len(data)%2==0:\n",
        "      return (data[mid-1]+data[mid])/2\n",
        "    else:\n",
        "      return data[mid]"
      ],
      "metadata": {
        "id": "20J6RgChsxN2"
      },
      "execution_count": 45,
      "outputs": []
    },
    {
      "cell_type": "code",
      "source": [
        "def range_coeff(data):\n",
        "  max_val=max(data)\n",
        "  min_val=min(data)\n",
        "  range_val=max_val-min_val\n",
        "  med_val=median(data)\n",
        "\n",
        "  range_of_dispersion=(range_val/med_val)*100\n",
        "  return range_of_dispersion"
      ],
      "metadata": {
        "id": "UAV1x7k_s_Ed"
      },
      "execution_count": 46,
      "outputs": []
    },
    {
      "cell_type": "code",
      "source": [
        "result=range_coeff(int_list2)\n",
        "print(f\"The range-based coefficient of dispersion:{result:.2f}%\")"
      ],
      "metadata": {
        "colab": {
          "base_uri": "https://localhost:8080/",
          "height": 0
        },
        "id": "wHnEYlxSttiH",
        "outputId": "6a210213-5a40-44ba-aa99-68426ee9e8bb"
      },
      "execution_count": 48,
      "outputs": [
        {
          "output_type": "stream",
          "name": "stdout",
          "text": [
            "The range-based coefficient of dispersion:41.07%\n"
          ]
        }
      ]
    },
    {
      "cell_type": "markdown",
      "source": [
        "**Use seaborn library to load \"tips\" dataset and the dataset for the columns \"total_bill\" and \"tip\"**"
      ],
      "metadata": {
        "id": "ECwGN0qqvXKd"
      }
    },
    {
      "cell_type": "code",
      "source": [
        "import seaborn as sns\n",
        "import matplotlib.pyplot as plt\n",
        "\n",
        "tips=sns.load_dataset(\"tips\")\n",
        "\n",
        "data=tips[[\"total_bill\",\"tip\"]]\n",
        "\n",
        "sns.scatterplot(x=\"total_bill\",y=\"tip\",data=data)\n",
        "plt.title(\"Tips Dataset\")\n",
        "plt.xlabel(\"Total Bill\")\n",
        "plt.ylabel(\"Tip\")\n",
        "plt.grid(True)\n",
        "plt.show()\n",
        "\n"
      ],
      "metadata": {
        "colab": {
          "base_uri": "https://localhost:8080/",
          "height": 472
        },
        "id": "obFiV0I6vc_Z",
        "outputId": "e3461d94-bf23-4587-ce19-a7c5cfed64cb"
      },
      "execution_count": 49,
      "outputs": [
        {
          "output_type": "display_data",
          "data": {
            "text/plain": [
              "<Figure size 640x480 with 1 Axes>"
            ],
            "image/png": "[encoded data removed]"
          },
          "metadata": {}
        }
      ]
    },
    {
      "cell_type": "code",
      "source": [
        "#Write a Python function that calculates their skewness."
      ],
      "metadata": {
        "id": "wyJ0xU_3wO67"
      },
      "execution_count": 50,
      "outputs": []
    },
    {
      "cell_type": "code",
      "source": [
        "import numpy as np"
      ],
      "metadata": {
        "id": "z9EYsWs_wYgC"
      },
      "execution_count": 51,
      "outputs": []
    },
    {
      "cell_type": "code",
      "source": [
        "def skewness(data):\n",
        "  n=len(data)\n",
        "  mean=np.mean(data)\n",
        "  std_dev=np.std(data)\n",
        "\n",
        "  skewness=(n/((n-1)*(n-2)))*(np.sum((data-mean)**3)/((n-1)*(n-2)*(std_dev**3)))\n",
        "  return skewness"
      ],
      "metadata": {
        "id": "qT7w0Gg7w0dQ"
      },
      "execution_count": 52,
      "outputs": []
    },
    {
      "cell_type": "code",
      "source": [
        "result=skewness(tips[\"total_bill\"])\n",
        "print(f\"Skewness of the Dataset:{result:.4f}\")\n",
        "\n",
        "plt.figure(figsize=(8, 6))\n",
        "sns.histplot(tips[\"total_bill\"], bins=20, kde=True, color=\"blue\",edgecolor=\"black\")\n",
        "plt.title(\"Tips Dataset\")\n",
        "plt.xlabel(\"Total Bill\")\n",
        "plt.ylabel(\"Tip\")\n",
        "plt.grid(True)\n",
        "plt.show()"
      ],
      "metadata": {
        "colab": {
          "base_uri": "https://localhost:8080/",
          "height": 581
        },
        "id": "GM8n8sBjxMt7",
        "outputId": "0fd64333-c936-457a-ae44-33fe18b3aee1"
      },
      "execution_count": 56,
      "outputs": [
        {
          "output_type": "stream",
          "name": "stdout",
          "text": [
            "Skewness of the Dataset:0.0000\n"
          ]
        },
        {
          "output_type": "display_data",
          "data": {
            "text/plain": [
              "<Figure size 800x600 with 1 Axes>"
            ],
            "image/png": "[encoded data removed]"
          },
          "metadata": {}
        }
      ]
    },
    {
      "cell_type": "code",
      "source": [
        "#Create a program that determines whether the columns exhibit positive skewness, negative skewness, or is approximately symmetric"
      ],
      "metadata": {
        "id": "w9HGeZkfxf0u"
      },
      "execution_count": 57,
      "outputs": []
    },
    {
      "cell_type": "code",
      "source": [
        "import numpy as np"
      ],
      "metadata": {
        "id": "jafAAfOiytJa"
      },
      "execution_count": 58,
      "outputs": []
    },
    {
      "cell_type": "code",
      "source": [
        "def skewness(data):\n",
        "  n=len(data)\n",
        "  mean=np.mean(data)\n",
        "  std_dev=np.std(data)\n",
        "\n",
        "  skewness=(n/((n-1)*(n-2)))*(np.sum((data-mean)**3)/((n-1)*(n-2)*(std_dev**3)))\n",
        "  return skewness\n",
        "\n",
        "  def skew_type(skew):\n",
        "    if skew>0.5:\n",
        "      return \"Positive Skewed\"\n",
        "    elif skew<-0.5:\n",
        "      return \"Negative Skewed\"\n",
        "    else:\n",
        "      return \"Approximately Symmetric\"\n",
        "\n"
      ],
      "metadata": {
        "id": "FH4PJhoty_uB"
      },
      "execution_count": 59,
      "outputs": []
    },
    {
      "cell_type": "code",
      "source": [
        "skew_positive=skewness(tips[\"total_bill\"])\n",
        "skew_negative=skewness(tips[\"total_bill\"])\n",
        "skew_symmetric=skewness(tips[\"total_bill\"])\n",
        "\n",
        "\n",
        "print(f\"Skewness of the Dataset:{skew_positive:.4f}\")\n",
        "print(f\"Skewness of the Dataset:{skew_negative:.4f}\")\n",
        "print(f\"Skewness of the Dataset:{skew_symmetric:.4f}\")\n",
        "\n",
        "plt.figure(figsize=(8, 6))\n",
        "sns.histplot(data=tips[\"total_bill\"], bins=20, kde=True, color=\"blue\",edgecolor=\"black\")\n",
        "plt.title(\"Distribution of Dataset\")\n",
        "plt.xlabel(\"Values\")\n",
        "plt.ylabel(\"Frequency\")\n",
        "plt.legend()\n",
        "plt.show()"
      ],
      "metadata": {
        "colab": {
          "base_uri": "https://localhost:8080/",
          "height": 653
        },
        "id": "hZLcjJ_1zX2P",
        "outputId": "f9150341-df57-4013-c294-08fc5a648585"
      },
      "execution_count": 64,
      "outputs": [
        {
          "output_type": "stream",
          "name": "stderr",
          "text": [
            "WARNING:matplotlib.legend:No artists with labels found to put in legend.  Note that artists whose label start with an underscore are ignored when legend() is called with no argument.\n"
          ]
        },
        {
          "output_type": "stream",
          "name": "stdout",
          "text": [
            "Skewness of the Dataset:0.0000\n",
            "Skewness of the Dataset:0.0000\n",
            "Skewness of the Dataset:0.0000\n"
          ]
        },
        {
          "output_type": "display_data",
          "data": {
            "text/plain": [
              "<Figure size 800x600 with 1 Axes>"
            ],
            "image/png": "[encoded data removed]"
          },
          "metadata": {}
        }
      ]
    },
    {
      "cell_type": "code",
      "source": [
        "#Write a function that calculates the covariance between two columns."
      ],
      "metadata": {
        "id": "AU_wWI8t0KFh"
      },
      "execution_count": 62,
      "outputs": []
    },
    {
      "cell_type": "code",
      "source": [
        "import numpy as np"
      ],
      "metadata": {
        "id": "npu-NOF40_Jk"
      },
      "execution_count": 63,
      "outputs": []
    },
    {
      "cell_type": "code",
      "source": [
        "def cal_covariance(x,y):\n",
        "  n=len(x)\n",
        "  if n!=len(y):\n",
        "    raise ValueError\n",
        "\n",
        "  mean_x=np.mean(x)\n",
        "  mean_y=np.mean(y)\n",
        "\n",
        "  covariance=np.sum((x-mean_x)*(y-mean_y))/n\n",
        "  return covariance"
      ],
      "metadata": {
        "id": "bA7sU8ZF1RPp"
      },
      "execution_count": 65,
      "outputs": []
    },
    {
      "cell_type": "code",
      "source": [
        "x=tips[\"total_bill\"]\n",
        "y=tips[\"tip\"]\n",
        "covariance=cal_covariance(x,y)\n",
        "print(f\"Covariance between two columns:{covariance:.4f}\")"
      ],
      "metadata": {
        "colab": {
          "base_uri": "https://localhost:8080/",
          "height": 0
        },
        "id": "HOwE075x2Ckc",
        "outputId": "0c26ee14-d570-4630-bdf3-6dd483f42d3b"
      },
      "execution_count": 66,
      "outputs": [
        {
          "output_type": "stream",
          "name": "stdout",
          "text": [
            "Covariance between two columns:8.2894\n"
          ]
        }
      ]
    },
    {
      "cell_type": "code",
      "source": [
        "#Implement a Python program that calculates the Pearson correlation coefficient between two columns."
      ],
      "metadata": {
        "id": "5bxoVrqb2FHP"
      },
      "execution_count": 68,
      "outputs": []
    },
    {
      "cell_type": "code",
      "source": [
        "import numpy as np"
      ],
      "metadata": {
        "id": "kPADt-9L2PWv"
      },
      "execution_count": 69,
      "outputs": []
    },
    {
      "cell_type": "code",
      "source": [
        "def cal_correlation(x,y):\n",
        "  n=len(x)\n",
        "  if n!=len(y):\n",
        "    raise ValueError\n",
        "  mean_x=np.mean(x)\n",
        "  mean_y=np.mean(y)\n",
        "  cov_xy=cal_covariance(x,y)\n",
        "  std_x=np.std(x)\n",
        "  std_y=np.std(y)\n",
        "  correlation=cov_xy/(std_x*std_y)\n",
        "  return correlation\n",
        ""
      ],
      "metadata": {
        "id": "AL0tSUbM2cJu"
      },
      "execution_count": 70,
      "outputs": []
    },
    {
      "cell_type": "code",
      "source": [
        "x=tips[\"total_bill\"]\n",
        "y=tips[\"tip\"]\n",
        "correlation=cal_correlation(x,y)\n",
        "print(f\"Pearson correlation coefficient between two columns:{correlation:.4f}\")"
      ],
      "metadata": {
        "colab": {
          "base_uri": "https://localhost:8080/",
          "height": 0
        },
        "id": "XyTkIMQI2tnO",
        "outputId": "40a2c30a-da5d-4bf0-d409-0e982bb11dfd"
      },
      "execution_count": 71,
      "outputs": [
        {
          "output_type": "stream",
          "name": "stdout",
          "text": [
            "Pearson correlation coefficient between two columns:0.6757\n"
          ]
        }
      ]
    }
  ]
}